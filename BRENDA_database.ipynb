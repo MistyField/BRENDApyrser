{
 "cells": [
  {
   "cell_type": "code",
   "execution_count": 1,
   "metadata": {},
   "outputs": [],
   "source": [
    "import re\n",
    "import numpy as np\n",
    "workDir = 'C:/Users/tinta/OneDrive/Documents/Projects/BRENDA'\n",
    "dataFile = workDir + '/brenda_download.txt'"
   ]
  },
  {
   "cell_type": "code",
   "execution_count": 2,
   "metadata": {},
   "outputs": [],
   "source": [
    "from parseBRENDA import BRENDA\n",
    "brenda = BRENDA(dataFile)"
   ]
  },
  {
   "cell_type": "code",
   "execution_count": 5,
   "metadata": {},
   "outputs": [],
   "source": [
    "r = brenda.getReactions('2.2.1.1')[0]"
   ]
  },
  {
   "cell_type": "code",
   "execution_count": 4,
   "metadata": {},
   "outputs": [
    {
     "data": {
      "text/plain": [
       "'keto group transfer'"
      ]
     },
     "execution_count": 4,
     "metadata": {},
     "output_type": "execute_result"
    }
   ],
   "source": [
    "r.reaction_type"
   ]
  },
  {
   "cell_type": "code",
   "execution_count": 5,
   "metadata": {},
   "outputs": [],
   "source": [
    "temp = r.getTemperatureData()"
   ]
  },
  {
   "cell_type": "code",
   "execution_count": 7,
   "metadata": {},
   "outputs": [
    {
     "data": {
      "text/plain": [
       "[40.0, 62.0, 37.0, 65.0, 65.0, 30.0, 45.0, 25.0, 20.0]"
      ]
     },
     "execution_count": 7,
     "metadata": {},
     "output_type": "execute_result"
    }
   ],
   "source": [
    "[l['value'] for l in temp['optimum']]"
   ]
  },
  {
   "cell_type": "code",
   "execution_count": 8,
   "metadata": {},
   "outputs": [
    {
     "data": {
      "text/plain": [
       "[71.0, 67.5, 65.0, 60.0, 58.3, -999.0, 55.0, 40.0, 20.0, 50.0]"
      ]
     },
     "execution_count": 8,
     "metadata": {},
     "output_type": "execute_result"
    }
   ],
   "source": [
    "[l['value'] for l in temp['stability']]"
   ]
  },
  {
   "cell_type": "code",
   "execution_count": 9,
   "metadata": {},
   "outputs": [
    {
     "data": {
      "text/plain": [
       "[[40.0, 70.0]]"
      ]
     },
     "execution_count": 9,
     "metadata": {},
     "output_type": "execute_result"
    }
   ],
   "source": [
    "[l['value'] for l in temp['range']]"
   ]
  },
  {
   "cell_type": "code",
   "execution_count": 8,
   "metadata": {},
   "outputs": [
    {
     "data": {
      "text/plain": [
       "dict_keys(['Mg2+', 'Mn2+', 'Cu2+', 'Co2+', 'Ca2+'])"
      ]
     },
     "execution_count": 8,
     "metadata": {},
     "output_type": "execute_result"
    }
   ],
   "source": [
    "r.getMetals().keys()"
   ]
  },
  {
   "cell_type": "code",
   "execution_count": 4,
   "metadata": {},
   "outputs": [
    {
     "data": {
      "text/plain": [
       "[{'substrates': ['D-ribose5-phosphate', 'D-xylulose 5-phosphate'],\n",
       "  'products': ['D-glyceraldehyde 3-phosphate', 'sedoheptulose 7-phosphate']},\n",
       " {'substrates': ['D-fructose 6-phosphate', 'D-glyceraldehyde 3-phosphate'],\n",
       "  'products': ['D-xylulose 5-phosphate', 'erythrose 4-phosphate']},\n",
       " {'substrates': ['D-glyceraldehyde 3-phosphate', 'glyceraldehyde 3-phosphate'],\n",
       "  'products': ['D-xylulose 5-phosphate', 'D-xylulose 5-phosphate']},\n",
       " {'substrates': ['D-ribose 5-phosphate', 'D-xylulose 5-phosphate'],\n",
       "  'products': ['D-glyceraldehyde 3-phosphate', 'sedoheptulose 7-phosphate']},\n",
       " {'substrates': ['D-glyceraldehyde 3-phosphate', 'sedoheptulose 7-phosphate'],\n",
       "  'products': ['D-ribose 5-phosphate', 'D-xylulose 5-phosphate']}]"
      ]
     },
     "execution_count": 4,
     "metadata": {},
     "output_type": "execute_result"
    }
   ],
   "source": [
    "r.getSubstratesAndProducts()    "
   ]
  },
  {
   "cell_type": "code",
   "execution_count": 10,
   "metadata": {},
   "outputs": [
    {
     "data": {
      "text/plain": [
       "['D-xylulose 5-phosphate + D-ribose5-phosphate = sedoheptulose 7-phosphate + D-glyceraldehyde 3-phosphate',\n",
       " 'D-xylulose 5-phosphate + D-ribose5-phosphate = sedoheptulose 7-phosphate + D-glyceraldehyde 3-phosphate {}',\n",
       " 'D-xylulose 5-phosphate + D-ribose5-phosphate = sedoheptulose 7-phosphate + D-glyceraldehyde 3-phosphate',\n",
       " 'D-fructose 6-phosphate + D-glyceraldehyde 3-phosphate =erythrose 4-phosphate + D-xylulose 5-phosphate',\n",
       " 'D-fructose 6-phosphate + D-glyceraldehyde 3-phosphate =D-erythrose 4-phosphate + D-xylulose 5-phosphate',\n",
       " 'D-fructose 6-phosphate + D-glyceraldehyde 3-phosphate =D-erythrose 4-phosphate + D-xylulose 5-phosphate',\n",
       " 'more = ?  {}',\n",
       " 'more = ?  {}',\n",
       " 'D-xylulose 5-phosphate + D-ribose 5-phosphate = ?',\n",
       " 'glyceraldehyde 3-phosphate + D-glyceraldehyde 3-phosphate =D-xylulose 5-phosphate + D-xylulose 5-phosphate',\n",
       " 'D-xylulose-5-phosphate + D-ribose-5-phosphate = ?',\n",
       " 'D-ribose 5-phosphate + D-xylulose 5-phosphate =sedoheptulose 7-phosphate + D-glyceraldehyde 3-phosphate',\n",
       " 'sedoheptulose 7-phosphate + D-glyceraldehyde 3-phosphate =D-ribose 5-phosphate + D-xylulose 5-phosphate',\n",
       " 'sedoheptulose 7-phosphate + D-glyceraldehyde 3-phosphate =D-ribose 5-phosphate + D-xylulose 5-phosphate']"
      ]
     },
     "execution_count": 10,
     "metadata": {},
     "output_type": "execute_result"
    }
   ],
   "source": [
    "lines = r._getDataLines('NSP')\n",
    "# line = lines[1]\n",
    "# print(len(lines))\n",
    "[r._extractDataLineInfo(line)['value'] for line in lines]"
   ]
  },
  {
   "cell_type": "code",
   "execution_count": 28,
   "metadata": {},
   "outputs": [
    {
     "data": {
      "text/plain": [
       "['a', 'hola', 'tal']"
      ]
     },
     "execution_count": 28,
     "metadata": {},
     "output_type": "execute_result"
    }
   ],
   "source": [
    "a = ['hola', 'a', 'tal']\n",
    "a.sort()\n",
    "a"
   ]
  },
  {
   "cell_type": "code",
   "execution_count": 26,
   "metadata": {},
   "outputs": [],
   "source": [
    "def getKMvalues(r, substrate: str=None) -> dict:\n",
    "    \"\"\"\n",
    "    Returns a dictionary with all KM values of the enzyme. \n",
    "    If a substrate is given, then results are restricted to that substrate.\n",
    "    \"\"\"\n",
    "    res = {substrate: []}\n",
    "    lines = r._getDataLines('KM')  \n",
    "    for line in lines:\n",
    "        data = r._extractDataLineInfo(line)\n",
    "        if data['specific_info'] == substrate:\n",
    "            del data['specific_info']\n",
    "            data['value'] = float(data['value'])\n",
    "            res[substrate].append(data)\n",
    "    return res\n"
   ]
  },
  {
   "cell_type": "code",
   "execution_count": 34,
   "metadata": {},
   "outputs": [
    {
     "data": {
      "text/plain": [
       "{}"
      ]
     },
     "execution_count": 34,
     "metadata": {},
     "output_type": "execute_result"
    }
   ],
   "source": [
    "res = getKMvalues(r)\n",
    "res"
   ]
  },
  {
   "cell_type": "code",
   "execution_count": 32,
   "metadata": {},
   "outputs": [
    {
     "data": {
      "text/plain": [
       "[0.038,\n",
       " 0.015,\n",
       " 0.02,\n",
       " 0.065,\n",
       " 0.033,\n",
       " 0.034,\n",
       " 0.0056,\n",
       " 0.067,\n",
       " 0.23,\n",
       " 0.255,\n",
       " 0.303,\n",
       " 0.12,\n",
       " 0.16,\n",
       " 0.1,\n",
       " 0.18,\n",
       " 0.41,\n",
       " 0.04,\n",
       " 0.49,\n",
       " 0.011,\n",
       " 0.2,\n",
       " 0.15,\n",
       " 0.44,\n",
       " 0.0399,\n",
       " 0.4579,\n",
       " 0.025,\n",
       " 0.21,\n",
       " 0.5,\n",
       " 0.021,\n",
       " 0.07,\n",
       " 0.023,\n",
       " 0.075,\n",
       " 0.073,\n",
       " 1.01,\n",
       " 0.115,\n",
       " 0.163,\n",
       " 1.24,\n",
       " 0.773,\n",
       " 3.35,\n",
       " 0.595,\n",
       " 4.08,\n",
       " 0.318,\n",
       " 0.829,\n",
       " 0.4]"
      ]
     },
     "execution_count": 32,
     "metadata": {},
     "output_type": "execute_result"
    }
   ],
   "source": [
    "substrate = 'D-xylulose 5-phosphate'\n",
    "res = getKMvalues(r, substrate)\n",
    "[KM['value'] for KM in res[substrate]] "
   ]
  },
  {
   "cell_type": "code",
   "execution_count": 11,
   "metadata": {},
   "outputs": [
    {
     "data": {
      "text/plain": [
       "{'D-ribose 5-phosphate': [0.356,\n",
       "  0.739,\n",
       "  2.316,\n",
       "  0.436,\n",
       "  0.949,\n",
       "  0.837,\n",
       "  0.882,\n",
       "  0.8,\n",
       "  0.12,\n",
       "  0.61,\n",
       "  0.48,\n",
       "  0.33,\n",
       "  1.4,\n",
       "  0.063,\n",
       "  0.3,\n",
       "  0.63,\n",
       "  0.53,\n",
       "  0.72,\n",
       "  0.0362,\n",
       "  0.879,\n",
       "  0.06,\n",
       "  0.6,\n",
       "  7.0,\n",
       "  0.09,\n",
       "  0.014,\n",
       "  0.29,\n",
       "  0.15,\n",
       "  0.007,\n",
       "  0.08,\n",
       "  0.146,\n",
       "  0.093,\n",
       "  0.193,\n",
       "  1.75,\n",
       "  0.159,\n",
       "  5.97,\n",
       "  0.698,\n",
       "  5.65,\n",
       "  0.4,\n",
       "  0.25],\n",
       " 'D-xylulose 5-phosphate': [0.015,\n",
       "  0.02,\n",
       "  0.065,\n",
       "  0.033,\n",
       "  0.034,\n",
       "  0.0056,\n",
       "  0.067,\n",
       "  0.23,\n",
       "  0.255,\n",
       "  0.303,\n",
       "  0.12,\n",
       "  0.16,\n",
       "  0.1,\n",
       "  0.18,\n",
       "  0.41,\n",
       "  0.04,\n",
       "  0.49,\n",
       "  0.011,\n",
       "  0.2,\n",
       "  0.15,\n",
       "  0.44,\n",
       "  0.0399,\n",
       "  0.4579,\n",
       "  0.025,\n",
       "  0.21,\n",
       "  0.5,\n",
       "  0.021,\n",
       "  0.07,\n",
       "  0.023,\n",
       "  0.075,\n",
       "  0.073,\n",
       "  1.01,\n",
       "  0.115,\n",
       "  0.163,\n",
       "  1.24,\n",
       "  0.773,\n",
       "  3.35,\n",
       "  0.595,\n",
       "  4.08,\n",
       "  0.318,\n",
       "  0.829,\n",
       "  0.4],\n",
       " 'fructose 6-phosphate': [3.2, 0.61, 1.1, 7.0, 1.8],\n",
       " 'D-xylose': [],\n",
       " 'L-arabinose': [],\n",
       " 'L-Lyxose': [],\n",
       " 'D-ribose': [],\n",
       " 'fructose-6-phosphate': [],\n",
       " 'Hydroxypyruvate': [5.3, 18.0, 6.6, 33.0],\n",
       " 'D-fructose 6-phosphate': [0.72, 0.6, 0.34],\n",
       " 'D-glyceraldehyde 3-phosphate': [0.92],\n",
       " 'thiamine diphosphate': [0.007,\n",
       "  0.0004,\n",
       "  0.0005,\n",
       "  0.0003,\n",
       "  0.0006,\n",
       "  0.0012,\n",
       "  0.0018,\n",
       "  0.0007,\n",
       "  0.0019,\n",
       "  0.0008,\n",
       "  0.0024],\n",
       " 'L-glyceraldehyde': [],\n",
       " 'L-lactaldehyde': [],\n",
       " 'D-ribose-5-phosphate': [0.13],\n",
       " 'L-erythrulose': [5.2, 4.9],\n",
       " 'D-glyceraldehyde': [],\n",
       " 'D-Lactaldehyde': [],\n",
       " 'propionaldehyde': [140.0],\n",
       " 'D-erythrose 4-phosphate': [0.36],\n",
       " 'D,L-glyceraldehyde': [],\n",
       " 'sedoheptulose 7-phosphate': [],\n",
       " 'D,L-glyceraldehyde 3-phosphate': [],\n",
       " 'glycolaldehyde': [35.0, 200.0],\n",
       " 'lithium beta-hydroxypyruvate': [],\n",
       " 'D-erythrose': [],\n",
       " 'formaldehyde': [],\n",
       " 'Xylulose 5-phosphate': [0.0365],\n",
       " 'glyceraldehyde 3-phosphate': [],\n",
       " '': [nan, nan, nan, nan, nan, nan, nan]}"
      ]
     },
     "execution_count": 11,
     "metadata": {},
     "output_type": "execute_result"
    }
   ],
   "source": [
    "r.getKMvalues()"
   ]
  },
  {
   "cell_type": "code",
   "execution_count": null,
   "metadata": {},
   "outputs": [],
   "source": [
    "# line = '#1# Meleagris gallopavo  <2>'\n",
    "# line = '#33# Trypanosoma cruzi Q4D946 UniProt <60>'\n",
    "line = '#5# Escherichia coli   (#5# large subunit <21>) <21,34,57>'\n",
    "# re.search('(?<=#)(.*)(?=#)', line).group(1)\n",
    "#re.search('(?<=#)(.*)(?=<)', line).group(1).strip()\n",
    "#re.search('(?<=<)(.*)(?=>)', line).group(1).split(',')\n",
    "meta_search = re.search('(?<=\\()(.*)(?=\\))', line)\n",
    "line = line.replace(f'({meta_search.group(1)})', '')\n",
    "line"
   ]
  },
  {
   "cell_type": "code",
   "execution_count": null,
   "metadata": {},
   "outputs": [],
   "source": [
    "# r[0]._reaction_data"
   ]
  },
  {
   "cell_type": "code",
   "execution_count": null,
   "metadata": {},
   "outputs": [],
   "source": [
    "r[0].ec_number"
   ]
  },
  {
   "cell_type": "code",
   "execution_count": null,
   "metadata": {},
   "outputs": [],
   "source": [
    "reactions = brenda.getReactions()"
   ]
  },
  {
   "cell_type": "code",
   "execution_count": null,
   "metadata": {},
   "outputs": [],
   "source": [
    "len(reactions)"
   ]
  },
  {
   "cell_type": "code",
   "execution_count": null,
   "metadata": {},
   "outputs": [],
   "source": [
    "reactions[100].name"
   ]
  },
  {
   "cell_type": "code",
   "execution_count": null,
   "metadata": {},
   "outputs": [],
   "source": [
    "#brenda.getKMvalues(\"2.7.1.35\")\n",
    "# '\\nKM\\t#15# 0.022 {pyridoxal}  (#15# pH 7, 37Â°C <24>) <24>\\nKM\\t'\n",
    "# def getKMlines(data, search_indices):\n",
    "#     return [p.group(1) for p in re.finditer(\"KM\\t(.+?)\\nKM\",\n",
    "#                                             data[search_indices[0]:search_indices[1]])]\n",
    "\n",
    "# #brenda.data[97288258:97360800]\n",
    "# getKMlines(brenda.data, (97288258, 97360800))"
   ]
  },
  {
   "cell_type": "code",
   "execution_count": null,
   "metadata": {},
   "outputs": [],
   "source": [
    "# import importlib\n",
    "# importlib.reload(module)\n",
    "\n",
    "%load_ext autoreload\n",
    "%autoreload 2\n",
    "from parseBRENDA import BRENDA"
   ]
  },
  {
   "cell_type": "code",
   "execution_count": null,
   "metadata": {},
   "outputs": [],
   "source": [
    "brenda = BRENDA(DataFile)"
   ]
  },
  {
   "cell_type": "code",
   "execution_count": null,
   "metadata": {},
   "outputs": [],
   "source": [
    "brenda.getKMvalues(\"2.7.1.35\", \"ATP\")"
   ]
  },
  {
   "cell_type": "code",
   "execution_count": null,
   "metadata": {},
   "outputs": [],
   "source": [
    "\"\"\"\n",
    "REFERENCE\n",
    "RF\t<1> Green, P.N.; Gibson, D.M.: Carbohydrate metabolism in some\n",
    "\tmethylotrophic bacteria. FEMS Microbiol. Lett. (1984) 23, 31-34.\n",
    "\t{Pubmed:} (c)\n",
    "RF\t<2> Cline, A.L.; Hu, A.S.L.: The isolation of three sugar\n",
    "\tdehydrogenases from a pseudomonad. J. Biol. Chem. (1965) 240,\n",
    "\t4488-4492. {Pubmed:5845847} (c)\n",
    "\"\"\"\n",
    "\n",
    "\"\"\"\n",
    "PROTEIN\n",
    "PR\t#1# Sus scrofa   (#1# protein comprises a small N-terminal LPMO10\n",
    "\tmodule named LPMO10A followed by a family 5/12 CBM and a C-terminal\n",
    "\tGH18 module <9>) <9>\n",
    "PR\t#2# Oryctolagus cuniculus   (#2# fragment of dihydropteroate synthase\n",
    "\t<8>) <8>\n",
    "PR\t#3# Pseudomonas sp.   <2,10>\n",
    "PR\t#4# Acinetobacter sp.   <13>\n",
    "PR\t#5# Agrobacterium tumefaciens   <1,3>\n",
    "PR\t#6# Aureobasidium pullulans   <4>\n",
    "PR\t#7# Ovis aries aries   (#7# adh, fragment <6,7>) <6,7>\n",
    "PR\t#8# Trinickia caryophylli   <5>\n",
    "PR\t#9# Saccharolobus solfataricus Q97YM2 SwissProt <11,12>\n",
    "\n",
    "RECOMMENDED_NAME\n",
    "\"\"\""
   ]
  }
 ],
 "metadata": {
  "kernelspec": {
   "display_name": "Metabolism",
   "language": "python",
   "name": "metabolism"
  },
  "language_info": {
   "codemirror_mode": {
    "name": "ipython",
    "version": 3
   },
   "file_extension": ".py",
   "mimetype": "text/x-python",
   "name": "python",
   "nbconvert_exporter": "python",
   "pygments_lexer": "ipython3",
   "version": "3.7.4"
  }
 },
 "nbformat": 4,
 "nbformat_minor": 4
}
