{
 "cells": [
  {
   "cell_type": "code",
   "execution_count": 1,
   "metadata": {},
   "outputs": [],
   "source": [
    "from parseBRENDA import BRENDA\n",
    "workDir = 'C:/Users/tinta/OneDrive/Documents/Projects/BRENDA'\n",
    "dataFile = workDir + '/brenda_download.txt'"
   ]
  },
  {
   "cell_type": "code",
   "execution_count": 2,
   "metadata": {},
   "outputs": [
    {
     "data": {
      "text/plain": [
       "140737486680320"
      ]
     },
     "execution_count": 2,
     "metadata": {},
     "output_type": "execute_result"
    }
   ],
   "source": [
    "b = 1\n",
    "id(b)"
   ]
  },
  {
   "cell_type": "code",
   "execution_count": 1,
   "metadata": {},
   "outputs": [
    {
     "data": {
      "text/plain": [
       "140737486680320"
      ]
     },
     "execution_count": 1,
     "metadata": {},
     "output_type": "execute_result"
    }
   ],
   "source": [
    "a = 1\n",
    "id(a)"
   ]
  },
  {
   "cell_type": "code",
   "execution_count": 3,
   "metadata": {},
   "outputs": [
    {
     "data": {
      "text/plain": [
       "140737486680352"
      ]
     },
     "execution_count": 3,
     "metadata": {},
     "output_type": "execute_result"
    }
   ],
   "source": [
    "c = 2.1234\n",
    "id(c)"
   ]
  },
  {
   "cell_type": "code",
   "execution_count": 4,
   "metadata": {},
   "outputs": [
    {
     "data": {
      "text/plain": [
       "1440723102672"
      ]
     },
     "execution_count": 4,
     "metadata": {},
     "output_type": "execute_result"
    }
   ],
   "source": [
    "c = 2.1234\n",
    "id(c)"
   ]
  },
  {
   "cell_type": "code",
   "execution_count": 2,
   "metadata": {},
   "outputs": [
    {
     "name": "stdout",
     "output_type": "stream",
     "text": [
      "There are a total of 7558 reactions in BRENDA\n"
     ]
    }
   ],
   "source": [
    "brenda = BRENDA(dataFile)\n",
    "print(f'There are a total of {len(brenda.reactions)} reactions in BRENDA')"
   ]
  },
  {
   "cell_type": "code",
   "execution_count": 5,
   "metadata": {},
   "outputs": [
    {
     "data": {
      "text/html": [
       "\n",
       "        <table>\n",
       "            <tr>\n",
       "                <td><strong>Enzyme identifier</strong></td><td>1.1.1.1</td>\n",
       "            </tr><tr>\n",
       "                <td><strong>Memory address</strong></td>\n",
       "                <td>0x02f0022e19c8</td>\n",
       "            </tr><tr>\n",
       "                <td><strong>Name</strong></td><td>alcohol dehydrogenase</td>\n",
       "            </tr><tr>\n",
       "                <td><strong>Systematic name</strong></td><td>alcohol:NAD+ oxidoreductase</td>\n",
       "            </tr><tr>\n",
       "                <td><strong>Reaction type</strong></td><td>redox reaction</td>\n",
       "            </tr><tr>\n",
       "                <td><strong>Mechanism</strong></td><td>a primary alcohol + NAD+ <=> an aldehyde + NADH + H+ (#4,41# ordered</td>\n",
       "            </tr>\n",
       "        </table>\n",
       "        "
      ],
      "text/plain": [
       "<parseBRENDA.Reaction at 0x2f0022e19c8>"
      ]
     },
     "execution_count": 5,
     "metadata": {},
     "output_type": "execute_result"
    }
   ],
   "source": [
    "r = brenda.reactions.get_by_id('1.1.1.1')\n",
    "r"
   ]
  },
  {
   "cell_type": "code",
   "execution_count": 5,
   "metadata": {},
   "outputs": [
    {
     "data": {
      "text/plain": [
       "{'1': {'name': 'Mus musculus',\n",
       "  'proteinID': '',\n",
       "  'refs': ['6', '7', '8', '11', '19', '22', '25', '38', '40', '41']},\n",
       " '2': {'name': 'Homo sapiens',\n",
       "  'proteinID': '',\n",
       "  'refs': ['3',\n",
       "   '4',\n",
       "   '5',\n",
       "   '9',\n",
       "   '10',\n",
       "   '12',\n",
       "   '13',\n",
       "   '14',\n",
       "   '19',\n",
       "   '20',\n",
       "   '21',\n",
       "   '23',\n",
       "   '24',\n",
       "   '26',\n",
       "   '27',\n",
       "   '29',\n",
       "   '30',\n",
       "   '31',\n",
       "   '32',\n",
       "   '33',\n",
       "   '34',\n",
       "   '35',\n",
       "   '36',\n",
       "   '37',\n",
       "   '3940',\n",
       "   '42']},\n",
       " '3': {'name': 'Rattus norvegicus', 'proteinID': '', 'refs': ['1', '7', '22']},\n",
       " '4': {'name': 'Sus scrofa', 'proteinID': '', 'refs': ['2']},\n",
       " '5': {'name': 'Oryctolagus cuniculus', 'proteinID': '', 'refs': ['40']},\n",
       " '6': {'name': 'Homo sapiens',\n",
       "  'proteinID': 'P40261 SwissProt',\n",
       "  'refs': ['15', '16', '17', '18', '28']}}"
      ]
     },
     "execution_count": 5,
     "metadata": {},
     "output_type": "execute_result"
    }
   ],
   "source": [
    "r.getSpecies()"
   ]
  },
  {
   "cell_type": "code",
   "execution_count": 4,
   "metadata": {},
   "outputs": [
    {
     "data": {
      "text/plain": [
       "'keto group transfer'"
      ]
     },
     "execution_count": 4,
     "metadata": {},
     "output_type": "execute_result"
    }
   ],
   "source": [
    "r.reaction_type"
   ]
  },
  {
   "cell_type": "code",
   "execution_count": 5,
   "metadata": {},
   "outputs": [],
   "source": [
    "temp = r.getTemperatureData()"
   ]
  },
  {
   "cell_type": "code",
   "execution_count": 7,
   "metadata": {},
   "outputs": [
    {
     "data": {
      "text/plain": [
       "[40.0, 62.0, 37.0, 65.0, 65.0, 30.0, 45.0, 25.0, 20.0]"
      ]
     },
     "execution_count": 7,
     "metadata": {},
     "output_type": "execute_result"
    }
   ],
   "source": [
    "[l['value'] for l in temp['optimum']]"
   ]
  },
  {
   "cell_type": "code",
   "execution_count": 8,
   "metadata": {},
   "outputs": [
    {
     "data": {
      "text/plain": [
       "[71.0, 67.5, 65.0, 60.0, 58.3, -999.0, 55.0, 40.0, 20.0, 50.0]"
      ]
     },
     "execution_count": 8,
     "metadata": {},
     "output_type": "execute_result"
    }
   ],
   "source": [
    "[l['value'] for l in temp['stability']]"
   ]
  },
  {
   "cell_type": "code",
   "execution_count": 9,
   "metadata": {},
   "outputs": [
    {
     "data": {
      "text/plain": [
       "[[40.0, 70.0]]"
      ]
     },
     "execution_count": 9,
     "metadata": {},
     "output_type": "execute_result"
    }
   ],
   "source": [
    "[l['value'] for l in temp['range']]"
   ]
  },
  {
   "cell_type": "code",
   "execution_count": 8,
   "metadata": {},
   "outputs": [
    {
     "data": {
      "text/plain": [
       "dict_keys(['Mg2+', 'Mn2+', 'Cu2+', 'Co2+', 'Ca2+'])"
      ]
     },
     "execution_count": 8,
     "metadata": {},
     "output_type": "execute_result"
    }
   ],
   "source": [
    "r.getMetals().keys()"
   ]
  },
  {
   "cell_type": "code",
   "execution_count": 4,
   "metadata": {},
   "outputs": [
    {
     "data": {
      "text/plain": [
       "[{'substrates': ['D-ribose5-phosphate', 'D-xylulose 5-phosphate'],\n",
       "  'products': ['D-glyceraldehyde 3-phosphate', 'sedoheptulose 7-phosphate']},\n",
       " {'substrates': ['D-fructose 6-phosphate', 'D-glyceraldehyde 3-phosphate'],\n",
       "  'products': ['D-xylulose 5-phosphate', 'erythrose 4-phosphate']},\n",
       " {'substrates': ['D-glyceraldehyde 3-phosphate', 'glyceraldehyde 3-phosphate'],\n",
       "  'products': ['D-xylulose 5-phosphate', 'D-xylulose 5-phosphate']},\n",
       " {'substrates': ['D-ribose 5-phosphate', 'D-xylulose 5-phosphate'],\n",
       "  'products': ['D-glyceraldehyde 3-phosphate', 'sedoheptulose 7-phosphate']},\n",
       " {'substrates': ['D-glyceraldehyde 3-phosphate', 'sedoheptulose 7-phosphate'],\n",
       "  'products': ['D-ribose 5-phosphate', 'D-xylulose 5-phosphate']}]"
      ]
     },
     "execution_count": 4,
     "metadata": {},
     "output_type": "execute_result"
    }
   ],
   "source": [
    "r.getSubstratesAndProducts()    "
   ]
  },
  {
   "cell_type": "code",
   "execution_count": 32,
   "metadata": {},
   "outputs": [
    {
     "data": {
      "text/plain": [
       "[0.038,\n",
       " 0.015,\n",
       " 0.02,\n",
       " 0.065,\n",
       " 0.033,\n",
       " 0.034,\n",
       " 0.0056,\n",
       " 0.067,\n",
       " 0.23,\n",
       " 0.255,\n",
       " 0.303,\n",
       " 0.12,\n",
       " 0.16,\n",
       " 0.1,\n",
       " 0.18,\n",
       " 0.41,\n",
       " 0.04,\n",
       " 0.49,\n",
       " 0.011,\n",
       " 0.2,\n",
       " 0.15,\n",
       " 0.44,\n",
       " 0.0399,\n",
       " 0.4579,\n",
       " 0.025,\n",
       " 0.21,\n",
       " 0.5,\n",
       " 0.021,\n",
       " 0.07,\n",
       " 0.023,\n",
       " 0.075,\n",
       " 0.073,\n",
       " 1.01,\n",
       " 0.115,\n",
       " 0.163,\n",
       " 1.24,\n",
       " 0.773,\n",
       " 3.35,\n",
       " 0.595,\n",
       " 4.08,\n",
       " 0.318,\n",
       " 0.829,\n",
       " 0.4]"
      ]
     },
     "execution_count": 32,
     "metadata": {},
     "output_type": "execute_result"
    }
   ],
   "source": [
    "substrate = 'D-xylulose 5-phosphate'\n",
    "res = r.getKMvalues()\n",
    "[KM['value'] for KM in res[substrate]] "
   ]
  }
 ],
 "metadata": {
  "kernelspec": {
   "display_name": "Metabolism",
   "language": "python",
   "name": "metabolism"
  },
  "language_info": {
   "codemirror_mode": {
    "name": "ipython",
    "version": 3
   },
   "file_extension": ".py",
   "mimetype": "text/x-python",
   "name": "python",
   "nbconvert_exporter": "python",
   "pygments_lexer": "ipython3",
   "version": "3.7.4"
  }
 },
 "nbformat": 4,
 "nbformat_minor": 4
}
