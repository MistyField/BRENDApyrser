{
 "cells": [
  {
   "cell_type": "code",
   "execution_count": 3,
   "metadata": {},
   "outputs": [],
   "source": [
    "import re\n",
    "import numpy as np\n",
    "WorkDir = 'C:/Users/tinta/OneDrive/Documents/Projects/BRENDA'\n",
    "DataFile = WorkDir + '/brenda_download.txt'"
   ]
  },
  {
   "cell_type": "code",
   "execution_count": 4,
   "metadata": {},
   "outputs": [],
   "source": [
    "with open(DataFile, encoding=\"iso-8859-1\") as file:\n",
    "    data = file.read()\n"
   ]
  },
  {
   "cell_type": "code",
   "execution_count": 5,
   "metadata": {},
   "outputs": [],
   "source": [
    "ECidx = [( m.start(), m.end() )\n",
    "         for m in re.finditer('(?<=ID\\\\t)(.*)(?=\\\\n)', data)]"
   ]
  },
  {
   "cell_type": "code",
   "execution_count": 17,
   "metadata": {},
   "outputs": [
    {
     "data": {
      "text/plain": [
       "'2.7.1.35'"
      ]
     },
     "execution_count": 17,
     "metadata": {},
     "output_type": "execute_result"
    }
   ],
   "source": [
    "i=4000\n",
    "data[ECidx[i][0]:ECidx[i][1]]"
   ]
  },
  {
   "cell_type": "code",
   "execution_count": 97,
   "metadata": {},
   "outputs": [],
   "source": [
    "import re\n",
    "import numpy as np\n",
    "\n",
    "class BRENDA:\n",
    "    \"\"\"\n",
    "    Provides methods to parse the BRENDA database (https://www.brenda-enzymes.org/)\n",
    "    \"\"\"\n",
    "    def __init__(self, path_to_database):\n",
    "        def getECnumberIndices() -> dict:\n",
    "            EC_pattern = '(?<=ID\\\\t)(.*)(?=\\\\n)'\n",
    "            return {self.data[m.start():m.end()]: (m.start(), m.end()) \n",
    "                    for m in re.finditer(EC_pattern, self.data)}\n",
    "        with open(path_to_database, encoding=\"iso-8859-1\") as file:\n",
    "            self.data = file.read()\n",
    "        self.ECIndices = getECnumberIndices()\n",
    "        \n",
    "    def getNextEnzymeIdx(self, ec_number: str) -> int:\n",
    "        try: \n",
    "            key_idx = list(self.ECIndices).index(ec_number)\n",
    "            if key_idx == len(self.ECIndices):\n",
    "                return len(self.data)\n",
    "            else:\n",
    "                return self.ECIndices[list(self.ECIndices.keys())[key_idx + 1]][0]     \n",
    "        except:\n",
    "            raise ValueError(\"Ec number not in database\")\n",
    "    \n",
    "    def getKMvalues(self, ec_number: str, substrate: str=None) -> dict:\n",
    "        \"\"\"\n",
    "        Returns a dictionary with all KM values of the enzyme with\n",
    "        given EC number. If a substrate is given, then results are \n",
    "        restricted to that substrate.\n",
    "        \"\"\"\n",
    "        search_indices = (self.ECIndices[ec_number][1], self.getNextEnzymeIdx(ec_number))\n",
    "        \n",
    "        def getEnzymeSubstrates(KM_lines):\n",
    "            substrates = []\n",
    "            for line in KM_lines:\n",
    "                sub = extractKMInfo(line)['substrate']\n",
    "                if sub not in substrates:\n",
    "                    substrates.append(sub)\n",
    "            return substrates\n",
    "        \n",
    "        def extractKMInfo(KM_line):\n",
    "            res = {}\n",
    "            try: \n",
    "                species = re.search('#(.+?)#', KM_line).group(1).split(',')\n",
    "                res['species'] = species\n",
    "            except:\n",
    "                res['species'] = ''\n",
    "            try:\n",
    "                KM_value = re.search('# (.+?) {', KM_line).group(1)\n",
    "                res['KM'] = KM_value\n",
    "            except:\n",
    "                res['KM'] = np.nan\n",
    "            try:\n",
    "                substrate = re.search('{(.+?)}', KM_line).group(1)\n",
    "                res['substrate'] = substrate\n",
    "            except:\n",
    "                res['substrate'] = ''\n",
    "            try:    \n",
    "                meta = re.search('\\((.+?)\\)', KM_line).group(1)\n",
    "                res['meta'] = meta\n",
    "            except:\n",
    "                res['meta'] = ''\n",
    "            try:\n",
    "                references = re.search('<(.+?)>', KM_line).group(1)\n",
    "                res['references'] = references\n",
    "            except:\n",
    "                res['references'] = ''\n",
    "            return res\n",
    "        \n",
    "        def getKMlines(search_indices):\n",
    "            return [p.group(1) for p in re.finditer(\"KM\\t(.+?)\\nKM\",\n",
    "                                                    self.data[search_indices[0]:search_indices[1]])]\n",
    "        \n",
    "        KM_lines = getKMlines(search_indices)\n",
    "        enzyme_substrates = getEnzymeSubstrates(KM_lines)\n",
    "        if substrate is None:\n",
    "            res = {s: [] for s in enzyme_substrates}\n",
    "            for line in KM_lines:\n",
    "                KM_info = extractKMInfo(line)\n",
    "                res[KM_info['substrate']].append(float(KM_info['KM']))\n",
    "            return res\n",
    "        else:\n",
    "            res = {substrate: []}\n",
    "            for line in KM_lines:\n",
    "                KM_info = extractKMInfo(line)\n",
    "                if KM_info['substrate'] == substrate:\n",
    "                    res[substrate].append(float(KM_info['KM']))\n",
    "            return res"
   ]
  },
  {
   "cell_type": "code",
   "execution_count": 98,
   "metadata": {},
   "outputs": [],
   "source": [
    "brenda = BRENDA(DataFile)"
   ]
  },
  {
   "cell_type": "code",
   "execution_count": 96,
   "metadata": {},
   "outputs": [
    {
     "data": {
      "text/plain": [
       "['#13# -999 {more}  (#13# effect of KCl on Km-values <17>) <17>',\n",
       " '#13# 0.06 {ZnATP2-}  (#13# pH 5.8, 37Â°C <17>) <17>',\n",
       " '#13# 0.006 {pyridoxamine}  (#13# pH 6.5 <15>) <15>',\n",
       " '#13# 0.101 {MgATP2-}  (#13# pH 5.8, 37Â°C <17>) <17>',\n",
       " '#15# 0.022 {pyridoxal}  (#15# pH 7, 37Â°C <24>) <24>',\n",
       " '#15# 0.0091 {ATP}  (#15# pH 7, 37Â°C <24>) <24>',\n",
       " '#15# 0.127 {ATP}  (#15# pH 7, 37Â°C, recombinant enzyme <24>) <24>',\n",
       " '#21# 0.07 {pyridoxal}  (#21# pH 6.5, 30Â°C <32>) <32>',\n",
       " '#21# 0.212 {pyridoxine}  (#21# pH 6.5, 30Â°C <32>) <32>',\n",
       " '#3# 0.047 {pyridoxal}  (#3# pH 8, 37Â°C <28>) <28>',\n",
       " '#32# 0.102 {ATP}  (#32# wild type enzyme, at pH 7.4 and 37Â°C <56>) <56>',\n",
       " '#6# 0.17 {pyridoxal}  (#6# D235A mutant protein <48>) <48>',\n",
       " '#6# 0.18 {MgATP}  (#6# D235N mutant protein <48>) <48>',\n",
       " '#6# 0.49 {pyridoxal}  (#6# at pH 6.5 and 37Â°C <58>) <58>',\n",
       " '#6# 0.033 {pyridoxal}  <5>',\n",
       " '#6# 0.024 {pyridoxal}  (#6# wild-type protein <48>) <48>',\n",
       " '#6# 0.016 {pyridoxine}  <5>',\n",
       " '#6# 0.058 {pyridoxal}  (#6# D235N mutant protein <48>) <48>',\n",
       " '#6# 0.00172 {pyridoxine}  (#6# pH 7.0, 37Â°C <14>) <14>',\n",
       " \"#6# 0.00495 {4'-O-methylpyridoxine}  (#6# pH 6.2, 37Â°C <37>) <37>\",\n",
       " '#6,8# 0.012 {ATP}  (#8# pH 6.0, 37Â°C <16>; #6# pH 7, 37Â°C <23>) <16,23>',\n",
       " '#8# 0.025 {pyridoxal}  (#8# pH 6, 37Â°C <16>) <16>']"
      ]
     },
     "execution_count": 96,
     "metadata": {},
     "output_type": "execute_result"
    }
   ],
   "source": [
    "#brenda.getKMvalues(\"2.7.1.35\")\n",
    "'\\nKM\\t#15# 0.022 {pyridoxal}  (#15# pH 7, 37Â°C <24>) <24>\\nKM\\t'\n",
    "def getKMlines(data, search_indices):\n",
    "    return [p.group(1) for p in re.finditer(\"KM\\t(.+?)\\nKM\",\n",
    "                                            data[search_indices[0]:search_indices[1]])]\n",
    "\n",
    "#brenda.data[97288258:97360800]\n",
    "getKMlines(brenda.data, (97288258, 97360800))"
   ]
  },
  {
   "cell_type": "code",
   "execution_count": 99,
   "metadata": {},
   "outputs": [
    {
     "data": {
      "text/plain": [
       "{'more': [-999.0],\n",
       " 'ZnATP2-': [0.06],\n",
       " 'pyridoxamine': [0.006],\n",
       " 'MgATP2-': [0.101],\n",
       " 'pyridoxal': [0.022, 0.07, 0.047, 0.17, 0.49, 0.033, 0.024, 0.058, 0.025],\n",
       " 'ATP': [0.0091, 0.127, 0.102, 0.012],\n",
       " 'pyridoxine': [0.212, 0.016, 0.00172],\n",
       " 'MgATP': [0.18],\n",
       " \"4'-O-methylpyridoxine\": [0.00495]}"
      ]
     },
     "execution_count": 99,
     "metadata": {},
     "output_type": "execute_result"
    }
   ],
   "source": [
    "brenda.getKMvalues(\"2.7.1.35\")"
   ]
  },
  {
   "cell_type": "code",
   "execution_count": 101,
   "metadata": {},
   "outputs": [
    {
     "data": {
      "text/plain": [
       "{'ATP': [0.0091, 0.127, 0.102, 0.012]}"
      ]
     },
     "execution_count": 101,
     "metadata": {},
     "output_type": "execute_result"
    }
   ],
   "source": [
    "brenda.getKMvalues(\"2.7.1.35\", \"ATP\")"
   ]
  },
  {
   "cell_type": "code",
   "execution_count": null,
   "metadata": {},
   "outputs": [],
   "source": [
    "\"\"\"\n",
    "REFERENCE\n",
    "RF\t<1> Green, P.N.; Gibson, D.M.: Carbohydrate metabolism in some\n",
    "\tmethylotrophic bacteria. FEMS Microbiol. Lett. (1984) 23, 31-34.\n",
    "\t{Pubmed:} (c)\n",
    "RF\t<2> Cline, A.L.; Hu, A.S.L.: The isolation of three sugar\n",
    "\tdehydrogenases from a pseudomonad. J. Biol. Chem. (1965) 240,\n",
    "\t4488-4492. {Pubmed:5845847} (c)\n",
    "\"\"\"\n",
    "\n",
    "\"\"\"\n",
    "PROTEIN\n",
    "PR\t#1# Sus scrofa   (#1# protein comprises a small N-terminal LPMO10\n",
    "\tmodule named LPMO10A followed by a family 5/12 CBM and a C-terminal\n",
    "\tGH18 module <9>) <9>\n",
    "PR\t#2# Oryctolagus cuniculus   (#2# fragment of dihydropteroate synthase\n",
    "\t<8>) <8>\n",
    "PR\t#3# Pseudomonas sp.   <2,10>\n",
    "PR\t#4# Acinetobacter sp.   <13>\n",
    "PR\t#5# Agrobacterium tumefaciens   <1,3>\n",
    "PR\t#6# Aureobasidium pullulans   <4>\n",
    "PR\t#7# Ovis aries aries   (#7# adh, fragment <6,7>) <6,7>\n",
    "PR\t#8# Trinickia caryophylli   <5>\n",
    "PR\t#9# Saccharolobus solfataricus Q97YM2 SwissProt <11,12>\n",
    "\n",
    "RECOMMENDED_NAME\n",
    "\"\"\""
   ]
  }
 ],
 "metadata": {
  "kernelspec": {
   "display_name": "Metabolism",
   "language": "python",
   "name": "metabolism"
  },
  "language_info": {
   "codemirror_mode": {
    "name": "ipython",
    "version": 3
   },
   "file_extension": ".py",
   "mimetype": "text/x-python",
   "name": "python",
   "nbconvert_exporter": "python",
   "pygments_lexer": "ipython3",
   "version": "3.7.4"
  }
 },
 "nbformat": 4,
 "nbformat_minor": 4
}
