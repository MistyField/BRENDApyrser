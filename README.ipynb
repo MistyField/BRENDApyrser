{
 "cells": [
  {
   "cell_type": "markdown",
   "metadata": {},
   "source": [
    "# A python parser for the BRENDA database\n",
    "\n",
    "This project provides python classes and functions to parse the text file containing the entire BRENDA enzyme database (https://www.brenda-enzymes.org)\n",
    "\n",
    "This is an ongoing project!"
   ]
  },
  {
   "cell_type": "code",
   "execution_count": 1,
   "metadata": {},
   "outputs": [],
   "source": [
    "import numpy as np\n",
    "from matplotlib import pyplot as plt\n",
    "from parseBRENDA import BRENDA\n",
    "workDir = 'C:/Users/tinta/OneDrive/Documents/Projects/BRENDA'\n",
    "dataFile = workDir + '/brenda_download.txt'"
   ]
  },
  {
   "cell_type": "markdown",
   "metadata": {},
   "source": [
    "## 1. Parsing BRENDA"
   ]
  },
  {
   "cell_type": "code",
   "execution_count": 2,
   "metadata": {},
   "outputs": [
    {
     "data": {
      "text/html": [
       "\n",
       "        <table>\n",
       "            <tr>\n",
       "                <td><strong>Number of Enzymes</strong></td><td>7558</td>\n",
       "            </tr><tr>\n",
       "                <td><strong>BRENDA copyright</strong></td><td>Copyrighted by Dietmar Schomburg, Techn. University\n",
       "        Braunschweig, GERMANY. Distributed under the License as stated\n",
       "        at http:/www.brenda-enzymes.org</td>\n",
       "            </tr><tr>\n",
       "                <td><strong>Parser version</strong></td><td>0.0.1</td>\n",
       "            </tr><tr>\n",
       "                <td><strong>Author</strong></td><td>Semidán Robaina Estévez, 2020</td>\n",
       "            </tr>\n",
       "        </table>\n",
       "        "
      ],
      "text/plain": [
       "<parseBRENDA.BRENDA at 0x1f36e2429c8>"
      ]
     },
     "execution_count": 2,
     "metadata": {},
     "output_type": "execute_result"
    }
   ],
   "source": [
    "# Let's load the database\n",
    "brenda = BRENDA(dataFile)\n",
    "brenda"
   ]
  },
  {
   "cell_type": "code",
   "execution_count": 3,
   "metadata": {},
   "outputs": [
    {
     "data": {
      "image/png": "[encoded data removed]",
      "text/plain": [
       "<Figure size 432x288 with 1 Axes>"
      ]
     },
     "metadata": {
      "needs_background": "light"
     },
     "output_type": "display_data"
    },
    {
     "name": "stdout",
     "output_type": "stream",
     "text": [
      "Minimum and maximum values in database: 0.0 mM, 999.8 mM\n"
     ]
    }
   ],
   "source": [
    "# Plot all Km values in the database\n",
    "BRENDA_KMs = np.array([v for r in brenda.reactions \n",
    "                       for v in r.KMvalues.get_values()])\n",
    "values = BRENDA_KMs[(BRENDA_KMs < 1000) & (BRENDA_KMs >= 0)]\n",
    "plt.hist(values)\n",
    "plt.title(f'Median KM value: {np.median(values)}')\n",
    "plt.xlabel('KM (mM)')\n",
    "plt.show()\n",
    "print(f'Minimum and maximum values in database: {values.min()} mM, {values.max()} mM')"
   ]
  },
  {
   "cell_type": "code",
   "execution_count": 4,
   "metadata": {},
   "outputs": [
    {
     "data": {
      "image/png": "[encoded data removed]",
      "text/plain": [
       "<Figure size 432x288 with 1 Axes>"
      ]
     },
     "metadata": {
      "needs_background": "light"
     },
     "output_type": "display_data"
    },
    {
     "name": "stdout",
     "output_type": "stream",
     "text": [
      "Minimum and maximum values in database: 5.83e-10 1/s, 997.0 1/s\n"
     ]
    }
   ],
   "source": [
    "# Plot all Km values in the database\n",
    "BRENDA_Kcats = np.array([v for r in brenda.reactions \n",
    "                       for v in r.Kcatvalues.get_values()])\n",
    "values = BRENDA_Kcats[(BRENDA_Kcats < 1000) & (BRENDA_Kcats >= 0)]\n",
    "plt.hist(values)\n",
    "plt.title(f'Median Kcat value: {np.median(values)}')\n",
    "plt.xlabel('Kcat (1/s)')\n",
    "plt.show()\n",
    "print(f'Minimum and maximum values in database: {values.min()} 1/s, {values.max()} 1/s')"
   ]
  },
  {
   "cell_type": "code",
   "execution_count": 5,
   "metadata": {},
   "outputs": [
    {
     "data": {
      "image/png": "[encoded data removed]",
      "text/plain": [
       "<Figure size 432x288 with 1 Axes>"
      ]
     },
     "metadata": {
      "needs_background": "light"
     },
     "output_type": "display_data"
    },
    {
     "name": "stdout",
     "output_type": "stream",
     "text": [
      "Minimum and maximum values in database: 0.0 °C, 125.0 °C\n"
     ]
    }
   ],
   "source": [
    "# Plot all enzyme optimal temperature values in the database\n",
    "BRENDA_TO = np.array([v for r in brenda.reactions \n",
    "                       for v in r.temperature.filter_by_condition(\n",
    "                           'optimum').get_values()])\n",
    "values = BRENDA_TO[(BRENDA_TO >= 0)]\n",
    "plt.hist(values)\n",
    "plt.title(f'Median Optimum Temperature: {np.median(values)}')\n",
    "plt.xlabel('TO (${}^oC$)')\n",
    "plt.show()\n",
    "print(f'Minimum and maximum values in database: {values.min()} °C, {values.max()} °C')"
   ]
  },
  {
   "cell_type": "markdown",
   "metadata": {},
   "source": [
    "## 2. Extracting data for _Pyruvate kinase_"
   ]
  },
  {
   "cell_type": "code",
   "execution_count": 5,
   "metadata": {},
   "outputs": [
    {
     "data": {
      "text/html": [
       "\n",
       "        <table>\n",
       "            <tr>\n",
       "                <td><strong>Enzyme identifier</strong></td><td>2.7.1.40</td>\n",
       "            </tr><tr>\n",
       "                <td><strong>Name</strong></td><td>Pyruvate kinase</td>\n",
       "            </tr><tr>\n",
       "                <td><strong>Systematic name</strong></td><td>ATP:pyruvate 2-O-phosphotransferase</td>\n",
       "            </tr><tr>\n",
       "                <td><strong>Reaction type</strong></td><td>Phospho group transfer</td>\n",
       "            </tr><tr>\n",
       "                <td><strong>Reaction</strong></td><td>ATP + pyruvate <=> ADP + phosphoenolpyruvate</td>\n",
       "            </tr>\n",
       "        </table>\n",
       "        "
      ],
      "text/plain": [
       "<parseBRENDA.Reaction at 0x22a43d58608>"
      ]
     },
     "execution_count": 5,
     "metadata": {},
     "output_type": "execute_result"
    }
   ],
   "source": [
    "# We can retrieve an enzyme entry by its EC number like this\n",
    "r = brenda.reactions.get_by_id('2.7.1.40')\n",
    "r"
   ]
  },
  {
   "cell_type": "code",
   "execution_count": 6,
   "metadata": {},
   "outputs": [
    {
     "data": {
      "image/png": "[encoded data removed]",
      "text/plain": [
       "<Figure size 432x288 with 1 Axes>"
      ]
     },
     "metadata": {
      "needs_background": "light"
     },
     "output_type": "display_data"
    }
   ],
   "source": [
    "# Here are all the KM values for phosphoenolpyruvate associated with this enzyme class\n",
    "compound = 'phosphoenolpyruvate'\n",
    "kms = r.KMvalues.filter_by_compound(compound).get_values()\n",
    "plt.hist(kms)\n",
    "plt.xlabel('KM (mM)')\n",
    "plt.title(f'{r.name} ({compound})')\n",
    "plt.show()"
   ]
  },
  {
   "cell_type": "code",
   "execution_count": 7,
   "metadata": {},
   "outputs": [
    {
     "data": {
      "image/png": "[encoded data removed]",
      "text/plain": [
       "<Figure size 432x288 with 1 Axes>"
      ]
     },
     "metadata": {
      "needs_background": "light"
     },
     "output_type": "display_data"
    }
   ],
   "source": [
    "# Here are all the KM values for phosphoenolpyruvate associated with this enzyme class\n",
    "compound = 'phosphoenolpyruvate'\n",
    "kms = r.KMvalues.filter_by_compound(compound).get_values()\n",
    "plt.hist(kms)\n",
    "plt.xlabel('KM (mM)')\n",
    "plt.title(f'{r.name} ({compound})')\n",
    "plt.show()"
   ]
  },
  {
   "cell_type": "code",
   "execution_count": 8,
   "metadata": {},
   "outputs": [
    {
     "data": {
      "text/plain": [
       "[0.051500000000000004, 0.18]"
      ]
     },
     "execution_count": 8,
     "metadata": {},
     "output_type": "execute_result"
    }
   ],
   "source": [
    "# And further filtered by organism\n",
    "r.KMvalues.filter_by_organism('Bos taurus').filter_by_compound('phosphoenolpyruvate').get_values()"
   ]
  },
  {
   "cell_type": "code",
   "execution_count": 9,
   "metadata": {},
   "outputs": [
    {
     "data": {
      "image/png": "[encoded data removed]",
      "text/plain": [
       "<Figure size 432x288 with 1 Axes>"
      ]
     },
     "metadata": {
      "needs_background": "light"
     },
     "output_type": "display_data"
    }
   ],
   "source": [
    "# Here are all the Kcat values for phosphoenolpyruvate associated with this enzyme class\n",
    "compound = 'phosphoenolpyruvate'\n",
    "kcats = r.Kcatvalues.filter_by_compound(compound).get_values()\n",
    "plt.hist(kcats)\n",
    "plt.xlabel('Kcat ($s^{-1}$)')\n",
    "plt.title(f'{r.name} ({compound})')\n",
    "plt.show()"
   ]
  },
  {
   "cell_type": "markdown",
   "metadata": {},
   "source": [
    "## IDEA TO TEST\n",
    "Get all KM values for a given species, such as _Escherichia coli_, a compound and compare with measured absolute concentrations. This will give you an idea of how close are KMs to concentrations and hence how saturated enzymes are."
   ]
  },
  {
   "cell_type": "code",
   "execution_count": 15,
   "metadata": {},
   "outputs": [
    {
     "data": {
      "text/plain": [
       "{'1': ' Kim, J.Y.; Kim, D.Y.; Ro, J.Y.: Granule formation in NGF-culturedmast cells is associated with expressions of pyruvate kinase type M2and annexin I proteins. Int. Arch. Allergy Immunol. (2008) 146,287-297. {Pubmed:18362474}',\n",
       " '2': ' Patil, Y.; Junghare, M.; MÃ¼ller, N.: Fermentation of glycerol byAnaerobium acetethylicum and its potential use in biofuel production.Microb. Biotechnol. (2017) 10, 203-217. {Pubmed:28004884}',\n",
       " '3': ' Flanders, L.E.; Schloen, L.H.; Sallach, H.J.: Isozymes of pyruvatekinase from the grasfrog. Methods Enzymol. (1975) 42C, 166-175.{Pubmed:}',\n",
       " '4': ' Ibsen, K.H.; Chiu, R.H.C.; Park, H.R.; Sanders, D.A.; Roy, S.;Garratt, K.N.; Mueller, M.K.: Purification and properties of mousepyruvate kinases K and M and of a modified K subunit. Biochemistry(1981) 20, 1497-1506. {Pubmed:6784752}',\n",
       " '5': ' Baysdorfer, C.; Bassham, J.A.: Spinach pyruvate kinase isoforms.Partial purification and regulatory properties. Plant Physiol. (1984)74, 374-379. {Pubmed:16663425}',\n",
       " '6': ' Kester, H.C.M.; Uitzetter, J.H.A.A.; De Graaff, L.H.; Visser, J.:A rapid purification procedure for pyruvate kinase from the hyphalfungus Aspergillus nidulans. Can. J. Microbiol. (1988) 34, 1154-1158.{Pubmed:3058273}',\n",
       " '7': ' Potter, S.; Fothergill-Gilmore, L.A.: Purification and propertiesof pyruvate kinase from Thermoplasma acidophilum. FEMS Microbiol. Lett.(1992) 94, 235-240. {Pubmed:}',\n",
       " '8': ' Schramm, A.; Siebers, B.; Tjaden, B.; Brinkmann, H.; Hensel, R.:Pyruvate kinase of the hyperthermophilic crenarchaeote Thermoproteustenax: physiological role and phylogenetic aspects. J. Bacteriol.(2000) 182, 2001-2009. {Pubmed:10715009}',\n",
       " '9': ' Ambasht, P.K.; Malhotra, O.P.; Kayastha, A.M.: Purification,characterisation and steady state kinetic properties of cytosolicpyruvate kinase free of phosphoenol pyruvate phosphatase activity fromgerminating mung beans (Vigna radiata L.). Indian J. Biochem. Biophys.(1996) 33, 184-194. {Pubmed:8828288}'}"
      ]
     },
     "execution_count": 15,
     "metadata": {},
     "output_type": "execute_result"
    }
   ],
   "source": [
    "r.references"
   ]
  },
  {
   "cell_type": "code",
   "execution_count": 10,
   "metadata": {},
   "outputs": [],
   "source": [
    "# We can also get information about operational temperatures of the enzyme\n",
    "temp = r.temperature"
   ]
  },
  {
   "cell_type": "code",
   "execution_count": 12,
   "metadata": {},
   "outputs": [
    {
     "data": {
      "text/plain": [
       "[30.0,\n",
       " 37.0,\n",
       " 95.0,\n",
       " 22.0,\n",
       " 23.0,\n",
       " 44.0,\n",
       " 28.0,\n",
       " 40.0,\n",
       " 55.0,\n",
       " 45.0,\n",
       " -999.0,\n",
       " 60.0,\n",
       " 15.0,\n",
       " 20.5,\n",
       " 85.0,\n",
       " 50.0,\n",
       " 80.0,\n",
       " 25.0,\n",
       " 98.0]"
      ]
     },
     "execution_count": 12,
     "metadata": {},
     "output_type": "execute_result"
    }
   ],
   "source": [
    "temp.filter_by_condition('optimum').get_values()"
   ]
  },
  {
   "cell_type": "code",
   "execution_count": 19,
   "metadata": {},
   "outputs": [
    {
     "name": "stdout",
     "output_type": "stream",
     "text": [
      "[30.0, 37.0, 95.0, 22.0, 23.0, 44.0, 28.0, 40.0, 55.0, 45.0, -999.0, 60.0, 15.0, 20.5, 85.0, 50.0, 80.0, 25.0, 98.0]\n"
     ]
    }
   ],
   "source": [
    "print([l['value'] for l in temp['optimum']])"
   ]
  },
  {
   "cell_type": "code",
   "execution_count": 20,
   "metadata": {},
   "outputs": [
    {
     "name": "stdout",
     "output_type": "stream",
     "text": [
      "[35.0, 53.0]\n"
     ]
    }
   ],
   "source": [
    "print([l['value'] for l in temp['range']][0])"
   ]
  },
  {
   "cell_type": "code",
   "execution_count": 22,
   "metadata": {},
   "outputs": [
    {
     "data": {
      "text/plain": [
       "[{'substrates': ['AKT1S1', 'ATP'], 'products': ['ADP', 'phospho-AKT1S1']},\n",
       " {'substrates': ['TDP', 'phosphoenolpyruvate'],\n",
       "  'products': ['TTP', 'pyruvate | 95% yield |']},\n",
       " {'substrates': ['ATP', 'pyruvate'],\n",
       "  'products': ['ADP', 'phosphoenolpyruvate']},\n",
       " {'substrates': ['ADP', 'phosphoenolpyruvate'],\n",
       "  'products': ['ATP', 'pyruvate']},\n",
       " {'substrates': ['ATP', 'prothymosin alpha'],\n",
       "  'products': ['ADP', 'phospho-prothymosin alpha']}]"
      ]
     },
     "execution_count": 22,
     "metadata": {},
     "output_type": "execute_result"
    }
   ],
   "source": [
    "r.substratesAndProducts   "
   ]
  },
  {
   "cell_type": "code",
   "execution_count": 10,
   "metadata": {},
   "outputs": [],
   "source": [
    "class Base:\n",
    "    def print_base(self):\n",
    "        print('base')\n",
    "        return self\n",
    "        \n",
    "class Child1(Base):\n",
    "    def print_child1(self):\n",
    "        print('child1')\n",
    "        return self\n",
    "    \n",
    "class Child2(Base):\n",
    "    def print_child2(self):\n",
    "        print('child2')\n",
    "        return self\n",
    "    \n",
    "child1 = Child1()\n",
    "child2 = Child2()"
   ]
  },
  {
   "cell_type": "code",
   "execution_count": 12,
   "metadata": {},
   "outputs": [
    {
     "name": "stdout",
     "output_type": "stream",
     "text": [
      "base\n",
      "child1\n"
     ]
    },
    {
     "data": {
      "text/plain": [
       "<__main__.Child1 at 0x1f72a732b88>"
      ]
     },
     "execution_count": 12,
     "metadata": {},
     "output_type": "execute_result"
    }
   ],
   "source": [
    "x = child1.print_base()\n",
    "x.print_child1()"
   ]
  },
  {
   "cell_type": "code",
   "execution_count": 4,
   "metadata": {},
   "outputs": [],
   "source": [
    "def base(a):\n",
    "    print('SOY BASE')\n",
    "    print(a)\n",
    "    return a\n",
    "\n",
    "def child1(a):\n",
    "    print('soy child 1')\n",
    "    \n",
    "def child2(a):\n",
    "    print('soy child 2')\n",
    "    \n"
   ]
  },
  {
   "cell_type": "code",
   "execution_count": 5,
   "metadata": {},
   "outputs": [
    {
     "name": "stdout",
     "output_type": "stream",
     "text": [
      "<function child1 at 0x00000249B6BCFDC8>\n"
     ]
    }
   ],
   "source": [
    "@base\n",
    "def child1(a):\n",
    "    print('soy child 1')"
   ]
  },
  {
   "cell_type": "code",
   "execution_count": 6,
   "metadata": {},
   "outputs": [
    {
     "name": "stdout",
     "output_type": "stream",
     "text": [
      "soy child 1\n"
     ]
    }
   ],
   "source": [
    "child1(1)"
   ]
  },
  {
   "cell_type": "code",
   "execution_count": 28,
   "metadata": {},
   "outputs": [],
   "source": [
    "def my_decorator(func):\n",
    "    def wrapper():\n",
    "        print(\"Something is happening before the function is called.\")\n",
    "        func()\n",
    "        print(\"Something is happening after the function is called.\")\n",
    "    return wrapper\n",
    "\n",
    "def decorator(func):\n",
    "    def wrapper():\n",
    "        a = 2\n",
    "        y = func(a)\n",
    "        return y\n",
    "    return wrapper\n",
    "\n",
    "\n",
    "@my_decorator\n",
    "def say_whee():\n",
    "    print(\"Whee!\")\n",
    "\n",
    "@decorator\n",
    "def square(x):\n",
    "    return x**2\n",
    "\n",
    "@decorator\n",
    "def cube(x):\n",
    "    return x**3"
   ]
  },
  {
   "cell_type": "code",
   "execution_count": 26,
   "metadata": {},
   "outputs": [
    {
     "name": "stdout",
     "output_type": "stream",
     "text": [
      "Something is happening before the function is called.\n",
      "Whee!\n",
      "Something is happening after the function is called.\n"
     ]
    }
   ],
   "source": [
    "say_whee()"
   ]
  },
  {
   "cell_type": "code",
   "execution_count": 27,
   "metadata": {},
   "outputs": [
    {
     "data": {
      "text/plain": [
       "4"
      ]
     },
     "execution_count": 27,
     "metadata": {},
     "output_type": "execute_result"
    }
   ],
   "source": [
    "square()"
   ]
  },
  {
   "cell_type": "code",
   "execution_count": 29,
   "metadata": {},
   "outputs": [
    {
     "data": {
      "text/plain": [
       "8"
      ]
     },
     "execution_count": 29,
     "metadata": {},
     "output_type": "execute_result"
    }
   ],
   "source": [
    "cube()"
   ]
  },
  {
   "cell_type": "code",
   "execution_count": null,
   "metadata": {},
   "outputs": [],
   "source": []
  }
 ],
 "metadata": {
  "kernelspec": {
   "display_name": "Metabolism",
   "language": "python",
   "name": "metabolism"
  },
  "language_info": {
   "codemirror_mode": {
    "name": "ipython",
    "version": 3
   },
   "file_extension": ".py",
   "mimetype": "text/x-python",
   "name": "python",
   "nbconvert_exporter": "python",
   "pygments_lexer": "ipython3",
   "version": "3.7.4"
  }
 },
 "nbformat": 4,
 "nbformat_minor": 4
}
