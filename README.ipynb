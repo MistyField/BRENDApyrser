{
 "cells": [
  {
   "cell_type": "markdown",
   "metadata": {},
   "source": [
    "# A python parser for the BRENDA database\n",
    "\n",
    "This project provides python classes and functions to parse the text file containing the entire BRENDA enzyme database (https://www.brenda-enzymes.org)\n",
    "\n",
    "Due to BRENDA's license, BRENDA's database cannot be downloaded directly by the parser, instead, the user is asked to download the database as a text file after accepting usage conditions [here](https://www.brenda-enzymes.org/download_brenda_without_registration.php).\n",
    "\n",
    "This is an ongoing project!"
   ]
  },
  {
   "cell_type": "markdown",
   "metadata": {},
   "source": [
    "## Installation\n",
    "1. ```pip install brendapyrser```\n",
    "\n",
    "or\n",
    "\n",
    "2. Git clone project to local directory.\n",
    "\n",
    "   In terminal navigate to directory and enter: ```python setup.py install```"
   ]
  },
  {
   "cell_type": "code",
   "execution_count": 1,
   "metadata": {},
   "outputs": [],
   "source": [
    "import numpy as np\n",
    "from matplotlib import pyplot as plt\n",
    "from brendapyrser import BRENDA\n",
    "\n",
    "dataFile = 'data/brenda_download.txt'"
   ]
  },
  {
   "cell_type": "markdown",
   "metadata": {},
   "source": [
    "## 1. Parsing BRENDA"
   ]
  },
  {
   "cell_type": "code",
   "execution_count": 2,
   "metadata": {},
   "outputs": [
    {
     "data": {
      "text/html": [
       "\n",
       "        <table>\n",
       "            <tr>\n",
       "                <td><strong>Number of Enzymes</strong></td><td>7609</td>\n",
       "            </tr><tr>\n",
       "                <td><strong>BRENDA copyright</strong></td><td>Copyrighted by Dietmar Schomburg, Techn. University\n",
       "        Braunschweig, GERMANY. Distributed under the License as stated\n",
       "        at http:/www.brenda-enzymes.org</td>\n",
       "            </tr><tr>\n",
       "                <td><strong>Brendapyrser version</strong></td><td>0.0.2</td>\n",
       "            </tr><tr>\n",
       "                <td><strong>Author</strong></td><td>Semidán Robaina Estévez, 2020-2022</td>\n",
       "            </tr>\n",
       "        </table>\n",
       "        "
      ],
      "text/plain": [
       "<brendapyrser.parser.BRENDA at 0x7f994d2c4c10>"
      ]
     },
     "execution_count": 2,
     "metadata": {},
     "output_type": "execute_result"
    }
   ],
   "source": [
    "# Let's load the database\n",
    "brenda = BRENDA(dataFile)\n",
    "brenda"
   ]
  },
  {
   "cell_type": "code",
   "execution_count": 4,
   "metadata": {},
   "outputs": [
    {
     "data": {
      "image/png": "[encoded data removed]",
      "text/plain": [
       "<Figure size 432x288 with 1 Axes>"
      ]
     },
     "metadata": {
      "needs_background": "light"
     },
     "output_type": "display_data"
    },
    {
     "name": "stdout",
     "output_type": "stream",
     "text": [
      "Minimum and maximum values in database: 0.0 mM, 997.0 mM\n"
     ]
    }
   ],
   "source": [
    "# Plot all Km values in the database\n",
    "BRENDA_KMs = np.array([v for r in brenda.reactions \n",
    "                       for v in r.KMvalues.get_values()])\n",
    "values = BRENDA_KMs[(BRENDA_KMs < 1000) & (BRENDA_KMs >= 0)]\n",
    "plt.hist(values)\n",
    "plt.title(f'Median KM value: {np.median(values)}')\n",
    "plt.xlabel('KM (mM)')\n",
    "plt.show()\n",
    "print(f'Minimum and maximum values in database: {values.min()} mM, {values.max()} mM')"
   ]
  },
  {
   "cell_type": "code",
   "execution_count": 6,
   "metadata": {},
   "outputs": [
    {
     "data": {
      "image/png": "[encoded data removed]",
      "text/plain": [
       "<Figure size 432x288 with 1 Axes>"
      ]
     },
     "metadata": {
      "needs_background": "light"
     },
     "output_type": "display_data"
    },
    {
     "name": "stdout",
     "output_type": "stream",
     "text": [
      "Minimum and maximum values in database: 5.83e-10 1/s, 997.0 1/s\n"
     ]
    }
   ],
   "source": [
    "# Plot all Km values in the database\n",
    "BRENDA_Kcats = np.array([v for r in brenda.reactions \n",
    "                       for v in r.Kcatvalues.get_values()])\n",
    "values = BRENDA_Kcats[(BRENDA_Kcats < 1000) & (BRENDA_Kcats >= 0)]\n",
    "plt.hist(values)\n",
    "plt.title(f'Median Kcat value: {np.median(values)}')\n",
    "plt.xlabel('Kcat (1/s)')\n",
    "plt.show()\n",
    "print(f'Minimum and maximum values in database: {values.min()} 1/s, {values.max()} 1/s')"
   ]
  },
  {
   "cell_type": "code",
   "execution_count": 7,
   "metadata": {},
   "outputs": [
    {
     "data": {
      "image/png": "[encoded data removed]",
      "text/plain": [
       "<Figure size 432x288 with 1 Axes>"
      ]
     },
     "metadata": {
      "needs_background": "light"
     },
     "output_type": "display_data"
    },
    {
     "name": "stdout",
     "output_type": "stream",
     "text": [
      "Minimum and maximum values in database: 0.0 °C, 125.0 °C\n"
     ]
    }
   ],
   "source": [
    "# Plot all enzyme optimal temperature values in the database\n",
    "BRENDA_TO = np.array([v for r in brenda.reactions \n",
    "                       for v in r.temperature.filter_by_condition(\n",
    "                           'optimum').get_values()])\n",
    "values = BRENDA_TO[(BRENDA_TO >= 0)]\n",
    "plt.hist(values)\n",
    "plt.title(f'Median Optimum Temperature: {np.median(values)}')\n",
    "plt.xlabel('TO (${}^oC$)')\n",
    "plt.show()\n",
    "print(f'Minimum and maximum values in database: {values.min()} °C, {values.max()} °C')"
   ]
  },
  {
   "cell_type": "markdown",
   "metadata": {},
   "source": [
    "We see that the median optimal temperature for all enzymes in the BRENDA database is 37 °C! That's interesting... perhaps all organisms have agreed to prefer that temperature over other ones... or, more likely, it could be that BRENDA database is biased towards mammals and microorganisms that live within mammals... such as human pathogens.\n",
    "\n",
    "Let's filter results for a particular species, let's try with a hyperthermophylic baterial genus, _Thermotoga_"
   ]
  },
  {
   "cell_type": "code",
   "execution_count": 8,
   "metadata": {},
   "outputs": [
    {
     "data": {
      "image/png": "[encoded data removed]",
      "text/plain": [
       "<Figure size 432x288 with 1 Axes>"
      ]
     },
     "metadata": {
      "needs_background": "light"
     },
     "output_type": "display_data"
    },
    {
     "name": "stdout",
     "output_type": "stream",
     "text": [
      "Minimum and maximum values in database: 20.0 °C, 105.0 °C\n"
     ]
    }
   ],
   "source": [
    "# Plot all enzyme optimal temperature values in the database\n",
    "species = 'Thermotoga'\n",
    "BRENDA_TO = np.array([v for r in brenda.reactions.filter_by_organism(species)\n",
    "                       for v in r.temperature.filter_by_condition('optimum').filter_by_organism(species).get_values()])\n",
    "values = BRENDA_TO[(BRENDA_TO >= 0)]\n",
    "plt.hist(values)\n",
    "plt.title(f'Median Optimum Temperature: {np.median(values)}')\n",
    "plt.xlabel('TO (${}^oC$)')\n",
    "plt.show()\n",
    "print(f'Minimum and maximum values in database: {values.min()} °C, {values.max()} °C')"
   ]
  },
  {
   "cell_type": "markdown",
   "metadata": {},
   "source": [
    "We can see that the median optimal temperature among all enzymes in the genus, 80°C, is much higher than in the case of the entire database. That's consistent with the fact that _Thermotoga_ are hyperthermophylic... alright!"
   ]
  },
  {
   "cell_type": "markdown",
   "metadata": {},
   "source": [
    "## 2. Extracting data for _Pyruvate kinase_"
   ]
  },
  {
   "cell_type": "code",
   "execution_count": 3,
   "metadata": {},
   "outputs": [
    {
     "data": {
      "text/html": [
       "\n",
       "        <table>\n",
       "            <tr>\n",
       "                <td><strong>Enzyme identifier</strong></td><td>2.7.1.40</td>\n",
       "            </tr><tr>\n",
       "                <td><strong>Name</strong></td><td>Pyruvate kinase</td>\n",
       "            </tr><tr>\n",
       "                <td><strong>Systematic name</strong></td><td>ATP:pyruvate 2-O-phosphotransferase</td>\n",
       "            </tr><tr>\n",
       "                <td><strong>Reaction type</strong></td><td>Phospho group transfer</td>\n",
       "            </tr><tr>\n",
       "                <td><strong>Reaction</strong></td><td>ATP + pyruvate <=> ADP + phosphoenolpyruvate</td>\n",
       "            </tr>\n",
       "        </table>\n",
       "        "
      ],
      "text/plain": [
       "<brendapyrser.parser.Reaction at 0x7fead617e820>"
      ]
     },
     "execution_count": 3,
     "metadata": {},
     "output_type": "execute_result"
    }
   ],
   "source": [
    "# We can retrieve an enzyme entry by its EC number like this\n",
    "r = brenda.reactions.get_by_id('2.7.1.40')\n",
    "r"
   ]
  },
  {
   "cell_type": "code",
   "execution_count": 10,
   "metadata": {},
   "outputs": [
    {
     "data": {
      "image/png": "[encoded data removed]",
      "text/plain": [
       "<Figure size 432x288 with 1 Axes>"
      ]
     },
     "metadata": {
      "needs_background": "light"
     },
     "output_type": "display_data"
    }
   ],
   "source": [
    "# Here are all the KM values for phosphoenolpyruvate associated with this enzyme class\n",
    "compound = 'phosphoenolpyruvate'\n",
    "kms = r.KMvalues.filter_by_compound(compound).get_values()\n",
    "plt.hist(kms)\n",
    "plt.xlabel('KM (mM)')\n",
    "plt.title(f'{r.name} ({compound})')\n",
    "plt.show()"
   ]
  },
  {
   "cell_type": "code",
   "execution_count": 14,
   "metadata": {},
   "outputs": [
    {
     "data": {
      "image/png": "[encoded data removed]",
      "text/plain": [
       "<Figure size 432x288 with 1 Axes>"
      ]
     },
     "metadata": {
      "needs_background": "light"
     },
     "output_type": "display_data"
    }
   ],
   "source": [
    "# Here are all the KM values for phosphoenolpyruvate associated with this enzyme class\n",
    "compound = 'phosphoenolpyruvate'\n",
    "KMs = r.KMvalues.filter_by_compound(compound).get_values()\n",
    "plt.hist(KMs)\n",
    "plt.xlabel('KM (mM)')\n",
    "plt.title(f'{r.name} ({compound})')\n",
    "plt.show()"
   ]
  },
  {
   "cell_type": "code",
   "execution_count": 12,
   "metadata": {},
   "outputs": [
    {
     "data": {
      "text/plain": [
       "[0.051500000000000004, 0.18]"
      ]
     },
     "execution_count": 12,
     "metadata": {},
     "output_type": "execute_result"
    }
   ],
   "source": [
    "# And further filtered by organism\n",
    "r.KMvalues.filter_by_organism('Bos taurus').filter_by_compound('phosphoenolpyruvate').get_values()"
   ]
  },
  {
   "cell_type": "code",
   "execution_count": 11,
   "metadata": {},
   "outputs": [
    {
     "data": {
      "image/png": "[encoded data removed]",
      "text/plain": [
       "<Figure size 432x288 with 1 Axes>"
      ]
     },
     "metadata": {
      "needs_background": "light"
     },
     "output_type": "display_data"
    }
   ],
   "source": [
    "# Here are all the Kcat values for phosphoenolpyruvate associated with this enzyme class\n",
    "compound = 'phosphoenolpyruvate'\n",
    "kcats = r.Kcatvalues.filter_by_compound(compound).get_values()\n",
    "plt.hist(kcats)\n",
    "plt.xlabel('Kcat ($s^{-1}$)')\n",
    "plt.title(f'{r.name} ({compound})')\n",
    "plt.show()"
   ]
  },
  {
   "cell_type": "markdown",
   "metadata": {},
   "source": [
    "## 3 Finding all KM values for a given substrate and organism\n",
    "Next, we will retrieve KM values associated to a particular substrate for all enzymes in a given species. Will t he KM values distribute around a narrow or wider concentration range? Since substrate concentration in cytoplasma is the same for all enzymes it makes sense that all cytoplasmi enzymes utilizing that substrate have similar KM values. Let's test this idea with _Escherichia coli_ and some common substrates participating in the central carbon metabolism."
   ]
  },
  {
   "cell_type": "code",
   "execution_count": 13,
   "metadata": {},
   "outputs": [
    {
     "data": {
      "image/png": "[encoded data removed]",
      "text/plain": [
       "<Figure size 432x288 with 1 Axes>"
      ]
     },
     "metadata": {
      "needs_background": "light"
     },
     "output_type": "display_data"
    }
   ],
   "source": [
    "species, compound = 'Escherichia coli', 'NADH'\n",
    "KMs = np.array([v for r in brenda.reactions.filter_by_organism(species)\n",
    "                for v in r.KMvalues.filter_by_compound(compound).filter_by_organism(species).get_values()])\n",
    "\n",
    "if len(KMs) > 0:\n",
    "    plt.hist(KMs)\n",
    "    plt.xlabel('KM (mM)')\n",
    "    plt.title(f'{species} KMs ({compound}), median = {np.median((KMs))}')\n",
    "    plt.show()\n",
    "else:\n",
    "    print('No KM values for compound')"
   ]
  },
  {
   "cell_type": "markdown",
   "metadata": {},
   "source": [
    "That's interesting! typical NADH concentrations are low in _Escherichia coli_, e.g., from [BioNumbers](http://book.bionumbers.org/what-are-the-concentrations-of-free-metabolites-in-cells/) we get a value of 0.083 mM. The median KM value for NADH among all enzymes binding it is lower as we see in the plot above! Hence, it looks like most enzymes are (nearly) saturated for NADH and thus fluxes are sort of independent of NADH concentration."
   ]
  },
  {
   "cell_type": "markdown",
   "metadata": {},
   "source": [
    "# 4 Filtering reactions by specific compound\n",
    "\n",
    "We can also filter reactions in BRENDA by a specific compound: substrate, product or either of the two. Let's filter reactions containing _phosphoenolpyruvate_ as a substrate, product or both to exemplify this feature"
   ]
  },
  {
   "cell_type": "code",
   "execution_count": 25,
   "metadata": {},
   "outputs": [
    {
     "data": {
      "text/html": [
       "\n",
       "        <table>\n",
       "            <tr>\n",
       "                <td><strong>Enzyme identifier</strong></td><td>2.5.1.19</td>\n",
       "            </tr><tr>\n",
       "                <td><strong>Name</strong></td><td>3-phosphoshikimate 1-carboxyvinyltransferase</td>\n",
       "            </tr><tr>\n",
       "                <td><strong>Systematic name</strong></td><td>phosphoenolpyruvate:3-phosphoshikimate 5-O-(1-carboxyvinyl)-transferase</td>\n",
       "            </tr><tr>\n",
       "                <td><strong>Reaction type</strong></td><td>Enolpyruvate group transfer (#3,52,55# induced-fit mechanism, formation</td>\n",
       "            </tr><tr>\n",
       "                <td><strong>Reaction</strong></td><td>phosphoenolpyruvate + 3-phosphoshikimate <=> phosphate +5-O-</td>\n",
       "            </tr>\n",
       "        </table>\n",
       "        "
      ],
      "text/plain": [
       "<brendapyrser.parser.Reaction at 0x7fe7502c1280>"
      ]
     },
     "execution_count": 25,
     "metadata": {},
     "output_type": "execute_result"
    }
   ],
   "source": [
    "substrate_rxns = brenda.reactions.filter_by_substrate(\"phosphoenolpyruvate\")\n",
    "substrate_rxns[2]"
   ]
  },
  {
   "cell_type": "code",
   "execution_count": 26,
   "metadata": {},
   "outputs": [
    {
     "data": {
      "text/html": [
       "\n",
       "        <table>\n",
       "            <tr>\n",
       "                <td><strong>Enzyme identifier</strong></td><td>2.5.1.7</td>\n",
       "            </tr><tr>\n",
       "                <td><strong>Name</strong></td><td>Udp-n-acetylglucosamine 1-carboxyvinyltransferase</td>\n",
       "            </tr><tr>\n",
       "                <td><strong>Systematic name</strong></td><td>phosphoenolpyruvate:UDP-N-acetyl-D-glucosamine</td>\n",
       "            </tr><tr>\n",
       "                <td><strong>Reaction type</strong></td><td>Carboxyvinyl group transfer</td>\n",
       "            </tr><tr>\n",
       "                <td><strong>Reaction</strong></td><td>phosphoenolpyruvate + UDP-N-acetyl-alpha-D-glucosamine <=> phosphate +UDP-N-acetyl-3-O-</td>\n",
       "            </tr>\n",
       "        </table>\n",
       "        "
      ],
      "text/plain": [
       "<brendapyrser.parser.Reaction at 0x7fe7502c1d00>"
      ]
     },
     "execution_count": 26,
     "metadata": {},
     "output_type": "execute_result"
    }
   ],
   "source": [
    "compound_rxns = brenda.reactions.filter_by_compound(\"phosphoenolpyruvate\")\n",
    "compound_rxns[7]"
   ]
  }
 ],
 "metadata": {
  "interpreter": {
   "hash": "367a058ebb24ea2c2bb1633bf810ec6a1a05f59e065f27f721ea93103e797079"
  },
  "kernelspec": {
   "display_name": "Python 3 (ipykernel)",
   "language": "python",
   "name": "python3"
  },
  "language_info": {
   "codemirror_mode": {
    "name": "ipython",
    "version": 3
   },
   "file_extension": ".py",
   "mimetype": "text/x-python",
   "name": "python",
   "nbconvert_exporter": "python",
   "pygments_lexer": "ipython3",
   "version": "3.8.12"
  }
 },
 "nbformat": 4,
 "nbformat_minor": 4
}
