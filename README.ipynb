{
 "cells": [
  {
   "cell_type": "markdown",
   "metadata": {},
   "source": [
    "# A python parser for the BRENDA database\n",
    "\n",
    "This project provides python classes and functions to parse the text file containing the entire BRENDA enzyme database (https://www.brenda-enzymes.org)\n",
    "\n",
    "This is an ongoing project!"
   ]
  },
  {
   "cell_type": "code",
   "execution_count": 1,
   "metadata": {},
   "outputs": [],
   "source": [
    "from parseBRENDA import BRENDA\n",
    "workDir = 'C:/Users/tinta/OneDrive/Documents/Projects/BRENDA'\n",
    "dataFile = workDir + '/brenda_download.txt'"
   ]
  },
  {
   "cell_type": "code",
   "execution_count": 2,
   "metadata": {},
   "outputs": [
    {
     "data": {
      "text/html": [
       "\n",
       "        <table>\n",
       "            <tr>\n",
       "                <td><strong>Number of Enzymes</strong></td><td>7558</td>\n",
       "            </tr><tr>\n",
       "                <td><strong>BRENDA copyright</strong></td><td>Copyrighted by Dietmar Schomburg, Techn. University\n",
       "        Braunschweig, GERMANY. Distributed under the License as stated\n",
       "        at http:/www.brenda-enzymes.org</td>\n",
       "            </tr><tr>\n",
       "                <td><strong>Parser version</strong></td><td>0.1</td>\n",
       "            </tr><tr>\n",
       "                <td><strong>Author</strong></td><td>Semidán Robaina Estévez, 2020</td>\n",
       "            </tr>\n",
       "        </table>\n",
       "        "
      ],
      "text/plain": [
       "<parseBRENDA.BRENDA at 0x1ef0fbc0f48>"
      ]
     },
     "execution_count": 2,
     "metadata": {},
     "output_type": "execute_result"
    }
   ],
   "source": [
    "# Let's load the database\n",
    "brenda = BRENDA(dataFile)\n",
    "brenda"
   ]
  },
  {
   "cell_type": "code",
   "execution_count": 6,
   "metadata": {},
   "outputs": [
    {
     "data": {
      "text/html": [
       "\n",
       "        <table>\n",
       "            <tr>\n",
       "                <td><strong>Enzyme identifier</strong></td><td>2.7.1.40</td>\n",
       "            </tr><tr>\n",
       "                <td><strong>Name</strong></td><td>pyruvate kinase</td>\n",
       "            </tr><tr>\n",
       "                <td><strong>Systematic name</strong></td><td>ATP:pyruvate 2-O-phosphotransferase</td>\n",
       "            </tr><tr>\n",
       "                <td><strong>Reaction type</strong></td><td>phospho group transfer</td>\n",
       "            </tr><tr>\n",
       "                <td><strong>Mechanism</strong></td><td>ATP + pyruvate <=> ADP + phosphoenolpyruvate (#6,23,32,49,69,70,92#mechanism <5,92>; #69# compulsory-ordered tri-bi mechanism <100>; #103#model for allosteric regulation <91>; #120,121# allosteric enzyme <98>;#16,18,36# allosteric enzyme: homotropic <73,74,75>; #12# hyperbolickinetics <96>; #118# sigmoidal kinetics with respect tophosphoenolpyruvate <93>; #52# catalyzes the addition of a proton andthe loss of a phosphoryl group which is transferred to ADP <48>; #98#sigmoidal saturation curves with substrate and metal ions <89>; #140#modeling of the catalytic mechanism, overview <248>; #149# the kineticmechanism is random order with a rapid equilibrium <255>)</td>\n",
       "            </tr>\n",
       "        </table>\n",
       "        "
      ],
      "text/plain": [
       "<parseBRENDA.Reaction at 0x1ef1dd188c8>"
      ]
     },
     "execution_count": 6,
     "metadata": {},
     "output_type": "execute_result"
    }
   ],
   "source": [
    "# We can retrieve an enzyme entry by its EC number like this\n",
    "r = brenda.reactions.get_by_id('2.7.1.40')\n",
    "r"
   ]
  },
  {
   "cell_type": "code",
   "execution_count": 11,
   "metadata": {},
   "outputs": [
    {
     "data": {
      "text/plain": [
       "0.275"
      ]
     },
     "execution_count": 11,
     "metadata": {},
     "output_type": "execute_result"
    }
   ],
   "source": [
    "# Here are all the KM values associated with this enzyme\n",
    "r.getKMvalues().filter_by_organism('Bos taurus')['ADP'][0]['value']"
   ]
  },
  {
   "cell_type": "code",
   "execution_count": 12,
   "metadata": {},
   "outputs": [],
   "source": [
    "# We can also get information about operational temperatures of the enzyme\n",
    "temp = r.getTemperatureData()"
   ]
  },
  {
   "cell_type": "code",
   "execution_count": 18,
   "metadata": {},
   "outputs": [
    {
     "name": "stdout",
     "output_type": "stream",
     "text": [
      "[30.0, 37.0, 95.0, 22.0, 23.0, 44.0, 28.0, 40.0, 55.0, 45.0, -999.0, 60.0, 15.0, 20.5, 85.0, 50.0, 80.0, 25.0, 98.0]\n"
     ]
    }
   ],
   "source": [
    "print([l['value'] for l in temp['optimum']])"
   ]
  },
  {
   "cell_type": "code",
   "execution_count": 20,
   "metadata": {},
   "outputs": [
    {
     "name": "stdout",
     "output_type": "stream",
     "text": [
      "[35.0, 53.0]\n"
     ]
    }
   ],
   "source": [
    "print([l['value'] for l in temp['range']][0])"
   ]
  },
  {
   "cell_type": "code",
   "execution_count": 25,
   "metadata": {},
   "outputs": [
    {
     "data": {
      "text/plain": [
       "{'value': 3.2,\n",
       " 'species': {'Homo sapiens'},\n",
       " 'meta': '#10# wild type enzyme, in the absenceof K+, in 50 mM Mes-Tris, pH 6.0, at 25Â°C <142>',\n",
       " 'refs': ['142']}"
      ]
     },
     "execution_count": 25,
     "metadata": {},
     "output_type": "execute_result"
    }
   ],
   "source": [
    "r.getKcatvalues()['phosphoenolpyruvate'][0]"
   ]
  },
  {
   "cell_type": "code",
   "execution_count": 22,
   "metadata": {},
   "outputs": [
    {
     "data": {
      "text/plain": [
       "[{'substrates': ['AKT1S1', 'ATP'], 'products': ['ADP', 'phospho-AKT1S1']},\n",
       " {'substrates': ['TDP', 'phosphoenolpyruvate'],\n",
       "  'products': ['TTP', 'pyruvate | 95% yield |']},\n",
       " {'substrates': ['ATP', 'pyruvate'],\n",
       "  'products': ['ADP', 'phosphoenolpyruvate']},\n",
       " {'substrates': ['ADP', 'phosphoenolpyruvate'],\n",
       "  'products': ['ATP', 'pyruvate']},\n",
       " {'substrates': ['ATP', 'prothymosin alpha'],\n",
       "  'products': ['ADP', 'phospho-prothymosin alpha']}]"
      ]
     },
     "execution_count": 22,
     "metadata": {},
     "output_type": "execute_result"
    }
   ],
   "source": [
    "r.getSubstratesAndProducts()    "
   ]
  }
 ],
 "metadata": {
  "kernelspec": {
   "display_name": "Metabolism",
   "language": "python",
   "name": "metabolism"
  },
  "language_info": {
   "codemirror_mode": {
    "name": "ipython",
    "version": 3
   },
   "file_extension": ".py",
   "mimetype": "text/x-python",
   "name": "python",
   "nbconvert_exporter": "python",
   "pygments_lexer": "ipython3",
   "version": "3.7.4"
  }
 },
 "nbformat": 4,
 "nbformat_minor": 4
}
